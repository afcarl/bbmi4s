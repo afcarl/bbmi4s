{
 "cells": [
  {
   "cell_type": "code",
   "execution_count": 1,
   "metadata": {
    "collapsed": false
   },
   "outputs": [],
   "source": [
    "import numpy as np\n",
    "import tqdm\n",
    "\n",
    "import matplotlib.pyplot as plt\n",
    "%matplotlib inline"
   ]
  },
  {
   "cell_type": "code",
   "execution_count": 2,
   "metadata": {
    "collapsed": true
   },
   "outputs": [],
   "source": [
    "# Define some helper functions\n",
    "def normal_pdf(x, m, s):\n",
    "    return 1./np.sqrt(2*np.pi*s**2) * np.exp(-1./2 * (x-m)**2 / s**2)"
   ]
  },
  {
   "cell_type": "code",
   "execution_count": 3,
   "metadata": {
    "collapsed": true
   },
   "outputs": [],
   "source": [
    "# First, sample a Gaussian mixture model\n",
    "# This illustrates the \"generative\" model\n",
    "def sample_gmm(N, weights, means, var):\n",
    "    K = len(weights)\n",
    "    assert len(means) == K\n",
    "    \n",
    "    Z = np.zeros(N)\n",
    "    X = np.zeros(N)\n",
    "    for n in range(N):\n",
    "        # Sample mixture component\n",
    "        Z[n] = np.random.choice(K, p=weights)\n",
    "        \n",
    "        # Sample value of the n-th datapoint\n",
    "        X[n] = np.random.normal(means[Z[n]], np.sqrt(var))\n",
    "        \n",
    "    return Z, X\n",
    "    "
   ]
  },
  {
   "cell_type": "code",
   "execution_count": 4,
   "metadata": {
    "collapsed": false
   },
   "outputs": [
    {
     "name": "stderr",
     "output_type": "stream",
     "text": [
      "/Users/scott/anaconda3/lib/python3.5/site-packages/ipykernel/__main__.py:14: VisibleDeprecationWarning: using a non-integer number instead of an integer will result in an error in the future\n"
     ]
    },
    {
     "data": {
      "text/plain": [
       "<matplotlib.legend.Legend at 0x10f39ac88>"
      ]
     },
     "execution_count": 4,
     "metadata": {},
     "output_type": "execute_result"
    },
    {
     "data": {
      "image/png": "[encoded data removed]",
      "text/plain": [
       "<matplotlib.figure.Figure at 0x10cf85240>"
      ]
     },
     "metadata": {},
     "output_type": "display_data"
    }
   ],
   "source": [
    "# Try it out!\n",
    "var = 1.0\n",
    "weights = np.array([0.5, 0.5])\n",
    "means = np.array([-2.0, +2.0])\n",
    "\n",
    "N = 100\n",
    "Z_true, X = sample_gmm(N, weights, means, var)\n",
    "\n",
    "plt.figure(figsize=(6,4))\n",
    "plt.hist(X[Z_true==0], 10, color='r', alpha=0.5, label=\"Z=0\")\n",
    "plt.hist(X[Z_true==1], 10, color='b', alpha=0.5, label=\"Z=1\")\n",
    "plt.xlabel(\"X\")\n",
    "plt.ylabel(\"Counts\")\n",
    "plt.legend(loc=\"upper right\")\n"
   ]
  },
  {
   "cell_type": "markdown",
   "metadata": {},
   "source": [
    "# Bayesian Inference"
   ]
  },
  {
   "cell_type": "code",
   "execution_count": 5,
   "metadata": {
    "collapsed": true
   },
   "outputs": [],
   "source": [
    "# What's unknown?\n",
    "# For each class k:\n",
    "#   - mean:    \\mu_k\n",
    "#   - weight:  w_k\n",
    "#\n",
    "# For each data point:\n",
    "#   - label:   z_n\n",
    "\n",
    "# Hyperparameters\n",
    "K = 2      # Number of classes\n",
    "m0 = 0.0   # mean of the means\n",
    "v0 = 1.0   # variance of the means\n",
    "var = 1.0  # variance of the observations, X[n]\n",
    "\n",
    "# Initialize the state of the algorithm\n",
    "means = np.random.normal(m0 * np.ones(K), np.sqrt(v0) * np.ones(K))\n",
    "weights = np.array([0.5, 0.5])\n",
    "Z = np.random.choice(K, size=N, p=weights)"
   ]
  },
  {
   "cell_type": "code",
   "execution_count": 6,
   "metadata": {
    "collapsed": false
   },
   "outputs": [
    {
     "data": {
      "text/plain": [
       "<matplotlib.legend.Legend at 0x10fa3e240>"
      ]
     },
     "execution_count": 6,
     "metadata": {},
     "output_type": "execute_result"
    },
    {
     "data": {
      "image/png": "[encoded data removed]",
      "text/plain": [
       "<matplotlib.figure.Figure at 0x10cf85898>"
      ]
     },
     "metadata": {},
     "output_type": "display_data"
    }
   ],
   "source": [
    "# Plot the initial estimates\n",
    "plt.figure(figsize=(6,4))\n",
    "plt.hist(X[Z==0], 10, color='r', alpha=0.5, label=\"Z=0\")\n",
    "plt.hist(X[Z==1], 10, color='b', alpha=0.5, label=\"Z=1\")\n",
    "plt.xlabel(\"X\")\n",
    "plt.ylabel(\"Counts\")\n",
    "plt.legend(loc=\"upper right\")"
   ]
  },
  {
   "cell_type": "code",
   "execution_count": 8,
   "metadata": {
    "collapsed": false
   },
   "outputs": [
    {
     "name": "stderr",
     "output_type": "stream",
     "text": [
      "100%|██████████| 1000/1000 [00:04<00:00, 223.41it/s]\n"
     ]
    }
   ],
   "source": [
    "N_iter = 1000\n",
    "for itr in tqdm.tqdm(range(N_iter)):\n",
    "    # 1. Sample labels given the means and the weights\n",
    "    for n in range(N):\n",
    "        # Since we know X[n], this should tell us whether\n",
    "        # class zero or class one is more likely\n",
    "        pn = np.zeros(K)\n",
    "        for k in range(K):\n",
    "            # What's the probability that X[n] came from \n",
    "            # class k?  Intuitively...\n",
    "            # pn[k] \\propto N(X[n] | means[k], stds) * weights[k]\n",
    "            # \n",
    "            # N(x | m, s) = 1/sqrt(2*pi*s**2) * exp(-1/2 (x-m)**2 / s**2)\n",
    "            pn[k] = normal_pdf(X[n], means[k], np.sqrt(var))\n",
    "            pn[k] *= weights[k]\n",
    "            \n",
    "        # Normalize pn so that it sums to one\n",
    "        pn = pn / np.sum(pn)\n",
    "            \n",
    "        # Now we can sample Z[n] from its *conditional* \n",
    "        # distribution given X[n], means, weights\n",
    "        Z[n] = np.random.choice(K, p=pn)\n",
    "    \n",
    "    # 2. Sample means given the labels\n",
    "    for k in range(K):\n",
    "        # Compute the conditional distribution of means[k]\n",
    "        # given X, Z, and the prior, m0, v0\n",
    "        # p(means[k]) \\propto \n",
    "        #     \\prod_n N(X[n] | Z[n]==k, means[k], std) * N(means[k] | m0, v0)\n",
    "        # \n",
    "        # TODO: Derive the mean and variance of the conditional distribution\n",
    "        # \n",
    "        # Trust me... as I write down the mean and variance of means[k] \n",
    "        # under the conditional distribution. \n",
    "        Nk = np.sum(Z==k)\n",
    "        vk = 1./(1./v0 + Nk/var)\n",
    "        mk = vk * (m0/v0 + X[Z==k].sum() / var)\n",
    "        \n",
    "        # Sample from the conditional normal distribution\n",
    "        means[k] = np.random.normal(mk, np.sqrt(vk))\n",
    "        \n",
    "        # Note that when v0 goes to infinity, vk goes to std**2 / Nk\n",
    "        # and mk goes to X[Z==k].mean(). This shows why it makes sense\n",
    "        # to just set means[k] as we did before:\n",
    "        # means[k] = X[Z==k].mean() \n",
    "    \n",
    "    # 3. Sample weights given the labels\n",
    "    # TODO: Give the weights a \"Dirichlet\" prior distribution\n",
    "    for k in range(K):\n",
    "        weights[k] = np.sum(Z==k) / float(N)\n",
    "        \n",
    "    # 4. Calculate the log probability under the current parameters\n",
    "    # TODO"
   ]
  },
  {
   "cell_type": "code",
   "execution_count": 10,
   "metadata": {
    "collapsed": false
   },
   "outputs": [
    {
     "data": {
      "text/plain": [
       "<matplotlib.legend.Legend at 0x10fe2dbe0>"
      ]
     },
     "execution_count": 10,
     "metadata": {},
     "output_type": "execute_result"
    },
    {
     "data": {
      "image/png": "[encoded data removed]",
      "text/plain": [
       "<matplotlib.figure.Figure at 0x10fe2d278>"
      ]
     },
     "metadata": {},
     "output_type": "display_data"
    }
   ],
   "source": [
    "# So... let's look at mixture distributions\n",
    "colors = ['r', 'b']\n",
    "plt.figure(figsize=(6,4))\n",
    "xx = np.linspace(-5,5)\n",
    "for k in range(K):\n",
    "    plt.hist(X[Z==k], 10, color=colors[k], alpha=0.5, \n",
    "             label=\"Z={}\".format(k), normed=True)\n",
    "    plt.plot(xx, normal_pdf(xx, means[k], np.sqrt(var)), \n",
    "             color=colors[k], linewidth=2)\n",
    "    \n",
    "plt.xlabel(\"X\")\n",
    "plt.ylabel(\"Counts\")\n",
    "plt.legend(loc=\"upper right\")"
   ]
  },
  {
   "cell_type": "markdown",
   "metadata": {},
   "source": [
    "# Next Steps\n",
    "1. This final plot doesn't actually illustrate the real advantage \n",
    "   of what we've done! We just plotted the final values of $Z$ and $means[k]$,\n",
    "   but really, we had 1000 samples of those values. Together, these give\n",
    "   us a sense of the _posterior uncertainty_ of our estimates. \n",
    "   \n",
    "2. How do we know how many iterations to run? The log probability of\n",
    "   the data and model parameters (means and weights) is a good starting point.\n",
    "   If this is still going up, then we haven't converged to good parameters yet.\n",
    "   If it has flattened out, then we are probably good to go.\n",
    "   \n",
    "3. We haven't looked at prior distributions over the weights yet. Let's \n",
    "   do that next time!"
   ]
  }
 ],
 "metadata": {
  "kernelspec": {
   "display_name": "Python [Root]",
   "language": "python",
   "name": "Python [Root]"
  },
  "language_info": {
   "codemirror_mode": {
    "name": "ipython",
    "version": 3
   },
   "file_extension": ".py",
   "mimetype": "text/x-python",
   "name": "python",
   "nbconvert_exporter": "python",
   "pygments_lexer": "ipython3",
   "version": "3.5.2"
  }
 },
 "nbformat": 4,
 "nbformat_minor": 0
}
