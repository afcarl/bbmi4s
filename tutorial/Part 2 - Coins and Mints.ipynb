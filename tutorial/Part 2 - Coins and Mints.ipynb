{
 "cells": [
  {
   "cell_type": "code",
   "execution_count": 14,
   "metadata": {
    "collapsed": true
   },
   "outputs": [],
   "source": [
    "import numpy as np\n",
    "import numpy.random as npr\n",
    "\n",
    "import matplotlib.pyplot as plt\n",
    "%matplotlib inline"
   ]
  },
  {
   "cell_type": "markdown",
   "metadata": {},
   "source": [
    "Choosing a cluster assignment is like flipping a coin\n",
    "but that coin isn't necessarily fair... \n",
    "When we estimate the weights, we have observed some \n",
    "sequence of coin flips and we're trying\n",
    "to figure out the probability of heads."
   ]
  },
  {
   "cell_type": "code",
   "execution_count": 7,
   "metadata": {
    "collapsed": false
   },
   "outputs": [
    {
     "name": "stdout",
     "output_type": "stream",
     "text": [
      "[0 0 1 1 0 1 1 0 0 0 0 0 0 0 0 0 1 1 0 0 0 0 0 0 1 0 0 1 0 0 1 1 0 0 1 0 0\n",
      " 0 0 0 0 0 0 1 1 1 1 0 0 0 0 0 0 1 0 0 0 0 1 0 0 0 0 0 1 0 0 1 0 0 0 0 0 0\n",
      " 0 1 0 0 0 0 0 0 0 0 1 1 1 0 0 0 0 0 0 0 0 0 0 0 0 0]\n"
     ]
    }
   ],
   "source": [
    "K = 2                    # Number of outcomes\n",
    "N = 100                  # Number of flips\n",
    "p = 0.75                 # Probability of heads\n",
    "pi = np.array([p, 1-p])  # Vector of [Pr(heads), Pr(tails)]\n",
    "\n",
    "# Sample a sequence of flips\n",
    "Z = npr.choice(K, size=(N,), p=pi)\n",
    "\n",
    "# Count the number of heads and tails\n",
    "N_heads = (Z==0).sum()\n",
    "N_tails = (Z==1).sum()\n",
    "\n",
    "print(Z)"
   ]
  },
  {
   "cell_type": "markdown",
   "metadata": {},
   "source": [
    "# Maximum Likelihood Estimate\n",
    "The simplest approach is the \"maximum likelihood estimate\"\n",
    "I.e. what is the value of p that is most likely to have generated this sequence?\n",
    "As we intuitively expect, this is simply the fraction of heads."
   ]
  },
  {
   "cell_type": "code",
   "execution_count": 43,
   "metadata": {
    "collapsed": false
   },
   "outputs": [
    {
     "name": "stdout",
     "output_type": "stream",
     "text": [
      "MLE: 0.77\n"
     ]
    }
   ],
   "source": [
    "p_mle = N_heads / float(N)\n",
    "print(\"MLE: {}\".format(p_mle))"
   ]
  },
  {
   "cell_type": "markdown",
   "metadata": {},
   "source": [
    "# Maximum a Posteriori Estimate\n",
    "Bayesians work instead with the posterior distribution over the weight of the coin.\n",
    "We combine our prior beliefs about the weight of the coin with the data that we have\n",
    "observed. How should we think of the prior? Intuitively, it corresponds to a set of \n",
    "\"pseudocounts.\" How many times have you seen this coin (or a similar one) \n",
    "come up heads or tails in the past? \n",
    "\n",
    "Equivalently, we can think of having a generative model that creates coins. Think\n",
    "of it as a mint. The mint has some parameters that govern the \"weight\", or bias, of\n",
    "the coin. Again, those parameters correspond to pseudocounts; how many times have \n",
    "coins from this mint come up heads or tails.  These specify the distribution over\n",
    "weights of coins from this mint."
   ]
  },
  {
   "cell_type": "code",
   "execution_count": 44,
   "metadata": {
    "collapsed": false
   },
   "outputs": [
    {
     "name": "stdout",
     "output_type": "stream",
     "text": [
      "MAP: 0.7596153846153846\n"
     ]
    }
   ],
   "source": [
    "# How many flips have you \"seen\" before?\n",
    "h = 2.\n",
    "t = 2.\n",
    "\n",
    "# maximum a posteriori estimate of p\n",
    "# combine the heads we've seen this time with \n",
    "# the \"pseudocounts\" we've seen before, i.e. the\n",
    "# parameters of the mint.\n",
    "p_map = (N_heads + h) / (N + h + t)\n",
    "print(\"MAP: {}\".format(p_map))"
   ]
  },
  {
   "cell_type": "markdown",
   "metadata": {},
   "source": [
    "# Likelihood of Z given p\n",
    "$ \\Pr(Z | p) = \\prod_n \\begin{cases} p & \\text{if } Z==0 \\\\ 1-p & \\text{if } Z==1 \\end{cases}$\n",
    "\n",
    "$ \\Pr(Z | p) = p^{N_{heads}} (1-p)^{N_{tails}} $\n",
    "\n",
    "# Prior on p\n",
    "We want it to have the same form\n",
    "$\\Pr(p | h, t) \\propto p^{h-1} (1-p)^{t-1}$\n",
    "\n",
    "This is called a beta distribution, and we write it as, $Beta(p | h,t)$  \n",
    "\n",
    "# Joint probability \n",
    "$\\Pr(Z, p) = \\Pr(Z | p) \\Pr(p | h, t)$ \n",
    "\n",
    "$\\Pr(Z, p) \\propto p^{N_{heads}} (1-p)^{N_{tails}} \\times p^{h-1} (1-p)^{t-1}$ \n",
    "\n",
    "$\\Pr(Z, p) \\propto p^{N_{heads} + h -1} (1-p)^{N_{tails} + t-1}$ \n",
    "\n",
    "# Posterior distribution of p given Z\n",
    "\n",
    "$ \\Pr(p | Z) = \\frac{\\Pr(Z, p)}{ \\Pr(Z)}  \\propto \\Pr(Z, p)$\n",
    "\n",
    "$ \\Pr(p | Z) \\propto p^{N_{heads} + h -1} (1-p)^{N_{tails} + t-1}$\n",
    "\n",
    "$\\Pr(p | Z) \\propto Beta(p | N_{heads} + h, N_{tails} + t)$"
   ]
  },
  {
   "cell_type": "code",
   "execution_count": 45,
   "metadata": {
    "collapsed": false
   },
   "outputs": [
    {
     "data": {
      "text/plain": [
       "[<matplotlib.lines.Line2D at 0x112beb5c0>]"
      ]
     },
     "execution_count": 45,
     "metadata": {},
     "output_type": "execute_result"
    },
    {
     "data": {
      "image/png": "[encoded data removed]",
      "text/plain": [
       "<matplotlib.figure.Figure at 0x112a22f60>"
      ]
     },
     "metadata": {},
     "output_type": "display_data"
    }
   ],
   "source": [
    "# Plotting beta distributions\n",
    "from scipy.stats import beta\n",
    "h = 3.0\n",
    "t = 2.0\n",
    "prior = beta(h, t)\n",
    "posterior = beta(N_heads + h, N_tails + t)\n",
    "\n",
    "ps = np.linspace(0,1,1000)\n",
    "plt.plot(ps, prior.pdf(ps), '-b')\n",
    "plt.plot(ps, posterior.pdf(ps), '-r')\n",
    "\n",
    "# Compute the MAP\n",
    "p_map = (N_heads + h) / (N + h + t)\n",
    "plt.plot(p_map, posterior.pdf(p_map), 'ro', markeredgecolor=\"none\")"
   ]
  },
  {
   "cell_type": "markdown",
   "metadata": {},
   "source": [
    "# Loaded Dice\n",
    "Now suppose we don't just have two outcomes (heads or tails), but rather $K$ outcomes.\n",
    "That is, suppose that we are working with loaded dice instead of biased coins. \n",
    "The same idea will still hold! Let's derive the prior and posterior distribution \n",
    "that works with this multiclass likelihood."
   ]
  },
  {
   "cell_type": "markdown",
   "metadata": {},
   "source": [
    "# Likelihood of Z given p\n",
    "$ \\Pr(Z | \\pi) = \\prod_n \\begin{cases} \\pi_1 & \\text{if } Z==1 \\\\ \\pi_2 & \\text{if } Z==2 \\\\ ... \\\\ \\pi_K & \\text{if } Z==K \\end{cases}$\n",
    "\n",
    "$ \\Pr(Z | \\pi) = \\prod_k \\pi_k^{\\sum_n I(Z=k)}$\n",
    "\n",
    "$ \\Pr(Z | \\pi) = \\prod_k \\pi_k^{N_k}$\n",
    "\n",
    "# Prior on p\n",
    "We want it to have the same form\n",
    "$\\Pr(\\pi | \\alpha_1, ..., \\alpha_K) \\propto \\prod_k \\pi_k^{\\alpha_k-1}$.\n",
    "\n",
    "This is called a *Dirichlet* distribution, which we write as $Dir(p | \\alpha)$. \n",
    "Here, $\\alpha$ plays the role of pseudocounts -- that is, $\\alpha_k$ is the number\n",
    "of times we've seen the die come up on side $k$. The Dirichlet distribution is \n",
    "like a dice factory. Each sample is a loaded die.\n",
    "\n",
    "# Joint probability \n",
    "$\\Pr(Z, \\pi) = \\Pr(Z | \\pi) \\Pr(\\pi | \\alpha)$ \n",
    "\n",
    "$\\Pr(Z, \\pi) \\propto \\prod_k \\pi_k^{N_k} \\times \\prod_k \\pi_k^{\\alpha_k-1}$ \n",
    "\n",
    "$\\Pr(Z, p) \\propto \\prod_k \\pi_k^{N_k + \\alpha_k -1}$ \n",
    "\n",
    "# Posterior distribution of p given Z\n",
    "\n",
    "$\\Pr(\\pi | Z) \\propto Dir(p | N_1 + \\alpha_1, ..., N_K + \\alpha_K)$"
   ]
  },
  {
   "cell_type": "code",
   "execution_count": 54,
   "metadata": {
    "collapsed": true
   },
   "outputs": [],
   "source": [
    "# Plot samples from the Dirichlet distribution.\n",
    "def plot_dirichlet(pis):\n",
    "    N, K = pis.shape\n",
    "    plt.figure(figsize=(N*3, 4))\n",
    "    for n in range(N):\n",
    "        plt.subplot(1,N,n+1)\n",
    "        plt.bar(np.arange(K), pis[n], color='k', alpha=0.5)\n",
    "        plt.ylim(0,1)\n",
    "        plt.xlabel(\"$\\pi$\")\n",
    "        plt.title(\"Sample {}\".format(n+1))\n",
    "        \n"
   ]
  },
  {
   "cell_type": "code",
   "execution_count": 61,
   "metadata": {
    "collapsed": false
   },
   "outputs": [
    {
     "data": {
      "image/png": "[encoded data removed]",
      "text/plain": [
       "<matplotlib.figure.Figure at 0x1146b5e10>"
      ]
     },
     "metadata": {},
     "output_type": "display_data"
    }
   ],
   "source": [
    "# When we have lots of pseudocounts, the dice\n",
    "# are very certain.\n",
    "K = 6\n",
    "N = 5\n",
    "alpha = 100. * np.ones(K)\n",
    "pis = npr.dirichlet(alpha, size=(N,))\n",
    "plot_dirichlet(pis)"
   ]
  },
  {
   "cell_type": "code",
   "execution_count": 62,
   "metadata": {
    "collapsed": false
   },
   "outputs": [
    {
     "data": {
      "image/png": "[encoded data removed]",
      "text/plain": [
       "<matplotlib.figure.Figure at 0x1146a3f28>"
      ]
     },
     "metadata": {},
     "output_type": "display_data"
    }
   ],
   "source": [
    "# When we have one pseudocount per outcome, the distribution\n",
    "# over dice is uniform over all possible weights\n",
    "K = 6\n",
    "N = 5\n",
    "alpha = 1. * np.ones(K)\n",
    "pis = npr.dirichlet(alpha, size=(N,))\n",
    "plot_dirichlet(pis)"
   ]
  },
  {
   "cell_type": "code",
   "execution_count": 63,
   "metadata": {
    "collapsed": false
   },
   "outputs": [
    {
     "data": {
      "image/png": "[encoded data removed]",
      "text/plain": [
       "<matplotlib.figure.Figure at 0x113492c50>"
      ]
     },
     "metadata": {},
     "output_type": "display_data"
    }
   ],
   "source": [
    "# When we have fewer than one pseudocount per face, the dice\n",
    "# are very \"peaky\" and biased.\n",
    "K = 6\n",
    "N = 5\n",
    "alpha = 0.1 * np.ones(K)\n",
    "pis = npr.dirichlet(alpha, size=(N,))\n",
    "plot_dirichlet(pis)"
   ]
  }
 ],
 "metadata": {
  "kernelspec": {
   "display_name": "Python [Root]",
   "language": "python",
   "name": "Python [Root]"
  },
  "language_info": {
   "codemirror_mode": {
    "name": "ipython",
    "version": 3
   },
   "file_extension": ".py",
   "mimetype": "text/x-python",
   "name": "python",
   "nbconvert_exporter": "python",
   "pygments_lexer": "ipython3",
   "version": "3.5.2"
  }
 },
 "nbformat": 4,
 "nbformat_minor": 0
}
